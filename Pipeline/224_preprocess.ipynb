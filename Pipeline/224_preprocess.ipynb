{
 "cells": [
  {
   "cell_type": "code",
   "execution_count": 1,
   "id": "7035f7c6",
   "metadata": {},
   "outputs": [],
   "source": [
    "import os\n",
    "\n",
    "# Importing the modules\n",
    "import tkinter as tk\n",
    "from tkinter import filedialog\n",
    "from PIL import Image\n",
    "\n",
    "# Creating the GUI window\n",
    "window = tk.Tk()\n",
    "window.title(\"Image Segmentation Preprocessing\")\n",
    "window.geometry(\"300x200\")\n",
    "\n",
    "# Defining a function to select a folder and process the images\n",
    "def select_folder():\n",
    "    try:\n",
    "        # Asking the user to choose a folder\n",
    "        folder = filedialog.askdirectory(title=\"Select Folder\")\n",
    "        # Looping through all the files in the folder\n",
    "        for file in os.listdir(folder):\n",
    "            # Checking if the file is an image\n",
    "            if file.endswith((\".jpg\", \".png\", \".bmp\")):\n",
    "                # Opening the image with PIL\n",
    "                image = Image.open(os.path.join(folder, file))\n",
    "                # Resizing the image to 224 x 224 pixels\n",
    "                image = image.resize((224, 224))\n",
    "                # Saving the resized image with a new name\n",
    "                image.save(os.path.join(folder, \"resized_\" + file))\n",
    "        # Showing a message that the process is done\n",
    "        tk.messagebox.showinfo(title=\"Done\", message=\"All images have been resized.\")\n",
    "    except FileNotFoundError:\n",
    "        # Showing a message that no folder was selected or found\n",
    "        tk.messagebox.showerror(title=\"Error\", message=\"No valid folder was selected or found.\")\n",
    "\n",
    "# Creating a button to trigger the function\n",
    "button = tk.Button(window, text=\"Select Folder\", command=select_folder)\n",
    "button.pack(pady=20)\n",
    "\n",
    "# Running the main loop of the GUI window\n",
    "window.mainloop()"
   ]
  },
  {
   "cell_type": "code",
   "execution_count": null,
   "id": "2cb65ce8",
   "metadata": {},
   "outputs": [],
   "source": []
  },
  {
   "cell_type": "code",
   "execution_count": null,
   "id": "d2399fdf",
   "metadata": {},
   "outputs": [],
   "source": []
  }
 ],
 "metadata": {
  "kernelspec": {
   "display_name": "Python 3 (ipykernel)",
   "language": "python",
   "name": "python3"
  },
  "language_info": {
   "codemirror_mode": {
    "name": "ipython",
    "version": 3
   },
   "file_extension": ".py",
   "mimetype": "text/x-python",
   "name": "python",
   "nbconvert_exporter": "python",
   "pygments_lexer": "ipython3",
   "version": "3.9.12"
  }
 },
 "nbformat": 4,
 "nbformat_minor": 5
}
